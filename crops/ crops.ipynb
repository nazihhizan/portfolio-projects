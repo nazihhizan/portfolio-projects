{
  "nbformat": 4,
  "nbformat_minor": 0,
  "metadata": {
    "colab": {
      "provenance": [],
      "collapsed_sections": [
        "3-1LNfdoIkwd",
        "U2688UunNLOH",
        "dWTGRO3lbk3o"
      ]
    },
    "kernelspec": {
      "name": "python3",
      "display_name": "Python 3"
    },
    "language_info": {
      "name": "python"
    }
  },
  "cells": [
    {
      "cell_type": "markdown",
      "source": [
        "# Урожайность и посевы"
      ],
      "metadata": {
        "id": "IIMh6l6w7pKJ"
      }
    },
    {
      "cell_type": "markdown",
      "source": [
        "## Скачиваем данные"
      ],
      "metadata": {
        "id": "3-1LNfdoIkwd"
      }
    },
    {
      "cell_type": "code",
      "source": [
        "! gdown 1QrOI11LNDygurqYROFmlKLPiqpJK0riO"
      ],
      "metadata": {
        "id": "e8tovcZSEIHg",
        "colab": {
          "base_uri": "https://localhost:8080/"
        },
        "outputId": "49e18638-73ea-4343-a231-0af1f7ac7917"
      },
      "execution_count": 29,
      "outputs": [
        {
          "output_type": "stream",
          "name": "stdout",
          "text": [
            "Downloading...\n",
            "From: https://drive.google.com/uc?id=1QrOI11LNDygurqYROFmlKLPiqpJK0riO\n",
            "To: /content/crops_usa.zip\n",
            "\r  0% 0.00/12.0k [00:00<?, ?B/s]\r100% 12.0k/12.0k [00:00<00:00, 14.2MB/s]\n"
          ]
        }
      ]
    },
    {
      "cell_type": "code",
      "source": [
        "! unzip -o /content/crops_usa.zip -d /content"
      ],
      "metadata": {
        "id": "c5uXNDNd4ezJ",
        "outputId": "350a47f3-2ff4-44d8-ba99-435a9a822581",
        "colab": {
          "base_uri": "https://localhost:8080/"
        }
      },
      "execution_count": 30,
      "outputs": [
        {
          "output_type": "stream",
          "name": "stdout",
          "text": [
            "Archive:  /content/crops_usa.zip\n",
            "  inflating: /content/crops_usa.csv  \n"
          ]
        }
      ]
    },
    {
      "cell_type": "markdown",
      "source": [
        "## Скачиваем библиотеки и разбираемся с данными"
      ],
      "metadata": {
        "id": "oPc6ofmGItOf"
      }
    },
    {
      "cell_type": "code",
      "source": [
        "import pandas as pd\n",
        "import seaborn as sns\n",
        "import matplotlib.pyplot as plt\n",
        "\n",
        "# служебная строка для полного отображения больших чисел\n",
        "pd.set_option('display.float_format', lambda x: '%.2f' % x)"
      ],
      "metadata": {
        "id": "O__QLkx37x5Y"
      },
      "execution_count": 31,
      "outputs": []
    },
    {
      "cell_type": "code",
      "source": [
        "data = pd.read_csv('/content/crops_usa.csv')\n",
        "data"
      ],
      "metadata": {
        "colab": {
          "base_uri": "https://localhost:8080/",
          "height": 424
        },
        "id": "nLuUSzFIGHLV",
        "outputId": "58fefa1e-aa02-4a3f-ddd7-614962a39209"
      },
      "execution_count": 32,
      "outputs": [
        {
          "output_type": "execute_result",
          "data": {
            "text/plain": [
              "      Year          State  State ANSI    Acres  Production\n",
              "0     2019        ALABAMA           1   130000     6120000\n",
              "1     2019        ARIZONA           4    34000     3432000\n",
              "2     2019       ARKANSAS           5   110000     2600000\n",
              "3     2019     CALIFORNIA           6   420000     7244000\n",
              "4     2019       COLORADO           8  2150000    98000000\n",
              "...    ...            ...         ...      ...         ...\n",
              "1665  1980       VIRGINIA          51   317000    10582000\n",
              "1666  1980     WASHINGTON          53  3320000   160220000\n",
              "1667  1980  WEST VIRGINIA          54    12000      380000\n",
              "1668  1980      WISCONSIN          55   119000     4365000\n",
              "1669  1980        WYOMING          56   352000     8620000\n",
              "\n",
              "[1670 rows x 5 columns]"
            ],
            "text/html": [
              "\n",
              "  <div id=\"df-0a2b28d0-a8cb-4ed4-98ef-62001f180615\">\n",
              "    <div class=\"colab-df-container\">\n",
              "      <div>\n",
              "<style scoped>\n",
              "    .dataframe tbody tr th:only-of-type {\n",
              "        vertical-align: middle;\n",
              "    }\n",
              "\n",
              "    .dataframe tbody tr th {\n",
              "        vertical-align: top;\n",
              "    }\n",
              "\n",
              "    .dataframe thead th {\n",
              "        text-align: right;\n",
              "    }\n",
              "</style>\n",
              "<table border=\"1\" class=\"dataframe\">\n",
              "  <thead>\n",
              "    <tr style=\"text-align: right;\">\n",
              "      <th></th>\n",
              "      <th>Year</th>\n",
              "      <th>State</th>\n",
              "      <th>State ANSI</th>\n",
              "      <th>Acres</th>\n",
              "      <th>Production</th>\n",
              "    </tr>\n",
              "  </thead>\n",
              "  <tbody>\n",
              "    <tr>\n",
              "      <th>0</th>\n",
              "      <td>2019</td>\n",
              "      <td>ALABAMA</td>\n",
              "      <td>1</td>\n",
              "      <td>130000</td>\n",
              "      <td>6120000</td>\n",
              "    </tr>\n",
              "    <tr>\n",
              "      <th>1</th>\n",
              "      <td>2019</td>\n",
              "      <td>ARIZONA</td>\n",
              "      <td>4</td>\n",
              "      <td>34000</td>\n",
              "      <td>3432000</td>\n",
              "    </tr>\n",
              "    <tr>\n",
              "      <th>2</th>\n",
              "      <td>2019</td>\n",
              "      <td>ARKANSAS</td>\n",
              "      <td>5</td>\n",
              "      <td>110000</td>\n",
              "      <td>2600000</td>\n",
              "    </tr>\n",
              "    <tr>\n",
              "      <th>3</th>\n",
              "      <td>2019</td>\n",
              "      <td>CALIFORNIA</td>\n",
              "      <td>6</td>\n",
              "      <td>420000</td>\n",
              "      <td>7244000</td>\n",
              "    </tr>\n",
              "    <tr>\n",
              "      <th>4</th>\n",
              "      <td>2019</td>\n",
              "      <td>COLORADO</td>\n",
              "      <td>8</td>\n",
              "      <td>2150000</td>\n",
              "      <td>98000000</td>\n",
              "    </tr>\n",
              "    <tr>\n",
              "      <th>...</th>\n",
              "      <td>...</td>\n",
              "      <td>...</td>\n",
              "      <td>...</td>\n",
              "      <td>...</td>\n",
              "      <td>...</td>\n",
              "    </tr>\n",
              "    <tr>\n",
              "      <th>1665</th>\n",
              "      <td>1980</td>\n",
              "      <td>VIRGINIA</td>\n",
              "      <td>51</td>\n",
              "      <td>317000</td>\n",
              "      <td>10582000</td>\n",
              "    </tr>\n",
              "    <tr>\n",
              "      <th>1666</th>\n",
              "      <td>1980</td>\n",
              "      <td>WASHINGTON</td>\n",
              "      <td>53</td>\n",
              "      <td>3320000</td>\n",
              "      <td>160220000</td>\n",
              "    </tr>\n",
              "    <tr>\n",
              "      <th>1667</th>\n",
              "      <td>1980</td>\n",
              "      <td>WEST VIRGINIA</td>\n",
              "      <td>54</td>\n",
              "      <td>12000</td>\n",
              "      <td>380000</td>\n",
              "    </tr>\n",
              "    <tr>\n",
              "      <th>1668</th>\n",
              "      <td>1980</td>\n",
              "      <td>WISCONSIN</td>\n",
              "      <td>55</td>\n",
              "      <td>119000</td>\n",
              "      <td>4365000</td>\n",
              "    </tr>\n",
              "    <tr>\n",
              "      <th>1669</th>\n",
              "      <td>1980</td>\n",
              "      <td>WYOMING</td>\n",
              "      <td>56</td>\n",
              "      <td>352000</td>\n",
              "      <td>8620000</td>\n",
              "    </tr>\n",
              "  </tbody>\n",
              "</table>\n",
              "<p>1670 rows × 5 columns</p>\n",
              "</div>\n",
              "      <button class=\"colab-df-convert\" onclick=\"convertToInteractive('df-0a2b28d0-a8cb-4ed4-98ef-62001f180615')\"\n",
              "              title=\"Convert this dataframe to an interactive table.\"\n",
              "              style=\"display:none;\">\n",
              "        \n",
              "  <svg xmlns=\"http://www.w3.org/2000/svg\" height=\"24px\"viewBox=\"0 0 24 24\"\n",
              "       width=\"24px\">\n",
              "    <path d=\"M0 0h24v24H0V0z\" fill=\"none\"/>\n",
              "    <path d=\"M18.56 5.44l.94 2.06.94-2.06 2.06-.94-2.06-.94-.94-2.06-.94 2.06-2.06.94zm-11 1L8.5 8.5l.94-2.06 2.06-.94-2.06-.94L8.5 2.5l-.94 2.06-2.06.94zm10 10l.94 2.06.94-2.06 2.06-.94-2.06-.94-.94-2.06-.94 2.06-2.06.94z\"/><path d=\"M17.41 7.96l-1.37-1.37c-.4-.4-.92-.59-1.43-.59-.52 0-1.04.2-1.43.59L10.3 9.45l-7.72 7.72c-.78.78-.78 2.05 0 2.83L4 21.41c.39.39.9.59 1.41.59.51 0 1.02-.2 1.41-.59l7.78-7.78 2.81-2.81c.8-.78.8-2.07 0-2.86zM5.41 20L4 18.59l7.72-7.72 1.47 1.35L5.41 20z\"/>\n",
              "  </svg>\n",
              "      </button>\n",
              "      \n",
              "  <style>\n",
              "    .colab-df-container {\n",
              "      display:flex;\n",
              "      flex-wrap:wrap;\n",
              "      gap: 12px;\n",
              "    }\n",
              "\n",
              "    .colab-df-convert {\n",
              "      background-color: #E8F0FE;\n",
              "      border: none;\n",
              "      border-radius: 50%;\n",
              "      cursor: pointer;\n",
              "      display: none;\n",
              "      fill: #1967D2;\n",
              "      height: 32px;\n",
              "      padding: 0 0 0 0;\n",
              "      width: 32px;\n",
              "    }\n",
              "\n",
              "    .colab-df-convert:hover {\n",
              "      background-color: #E2EBFA;\n",
              "      box-shadow: 0px 1px 2px rgba(60, 64, 67, 0.3), 0px 1px 3px 1px rgba(60, 64, 67, 0.15);\n",
              "      fill: #174EA6;\n",
              "    }\n",
              "\n",
              "    [theme=dark] .colab-df-convert {\n",
              "      background-color: #3B4455;\n",
              "      fill: #D2E3FC;\n",
              "    }\n",
              "\n",
              "    [theme=dark] .colab-df-convert:hover {\n",
              "      background-color: #434B5C;\n",
              "      box-shadow: 0px 1px 3px 1px rgba(0, 0, 0, 0.15);\n",
              "      filter: drop-shadow(0px 1px 2px rgba(0, 0, 0, 0.3));\n",
              "      fill: #FFFFFF;\n",
              "    }\n",
              "  </style>\n",
              "\n",
              "      <script>\n",
              "        const buttonEl =\n",
              "          document.querySelector('#df-0a2b28d0-a8cb-4ed4-98ef-62001f180615 button.colab-df-convert');\n",
              "        buttonEl.style.display =\n",
              "          google.colab.kernel.accessAllowed ? 'block' : 'none';\n",
              "\n",
              "        async function convertToInteractive(key) {\n",
              "          const element = document.querySelector('#df-0a2b28d0-a8cb-4ed4-98ef-62001f180615');\n",
              "          const dataTable =\n",
              "            await google.colab.kernel.invokeFunction('convertToInteractive',\n",
              "                                                     [key], {});\n",
              "          if (!dataTable) return;\n",
              "\n",
              "          const docLinkHtml = 'Like what you see? Visit the ' +\n",
              "            '<a target=\"_blank\" href=https://colab.research.google.com/notebooks/data_table.ipynb>data table notebook</a>'\n",
              "            + ' to learn more about interactive tables.';\n",
              "          element.innerHTML = '';\n",
              "          dataTable['output_type'] = 'display_data';\n",
              "          await google.colab.output.renderOutput(dataTable, element);\n",
              "          const docLink = document.createElement('div');\n",
              "          docLink.innerHTML = docLinkHtml;\n",
              "          element.appendChild(docLink);\n",
              "        }\n",
              "      </script>\n",
              "    </div>\n",
              "  </div>\n",
              "  "
            ]
          },
          "metadata": {},
          "execution_count": 32
        }
      ]
    },
    {
      "cell_type": "code",
      "source": [
        "data.info()"
      ],
      "metadata": {
        "id": "e1FnrP5KJBc5",
        "colab": {
          "base_uri": "https://localhost:8080/"
        },
        "outputId": "9f6def03-41a0-49a5-bc80-5c78346e879c"
      },
      "execution_count": 33,
      "outputs": [
        {
          "output_type": "stream",
          "name": "stdout",
          "text": [
            "<class 'pandas.core.frame.DataFrame'>\n",
            "RangeIndex: 1670 entries, 0 to 1669\n",
            "Data columns (total 5 columns):\n",
            " #   Column      Non-Null Count  Dtype \n",
            "---  ------      --------------  ----- \n",
            " 0   Year        1670 non-null   int64 \n",
            " 1   State       1670 non-null   object\n",
            " 2   State ANSI  1670 non-null   int64 \n",
            " 3   Acres       1670 non-null   int64 \n",
            " 4   Production  1670 non-null   int64 \n",
            "dtypes: int64(4), object(1)\n",
            "memory usage: 65.4+ KB\n"
          ]
        }
      ]
    },
    {
      "cell_type": "markdown",
      "source": [
        "**Данные**\n",
        "\n",
        "*   Year — год;\n",
        "*   State — название штата;\n",
        "*   State ANSI — код штата;\n",
        "*   Acres — количество посевов в акрах для определённого штата и года;\n",
        "*   Production — объём урожая для определённого штата и года в бушелях;\n",
        "\n",
        "**Проблема**\n",
        "\n",
        "Вам предстоит оценить, что важнее предсказывать — площадь посевов или урожайность.\n",
        "\n",
        "**Гипотезы**\n",
        "\n",
        "*   Предсказывание урожайности на этот год с помощью покозателей урожайности прошлого года важнее чем предсказывать с помощью площади посевов прошлого года.\n",
        "\n",
        "*   Предсказывание урожайности на этот год с помощью площади посевов прошлого года важнее чем предсказывать с помощью покозателей урожайности прошлого года.\n",
        "\n",
        "\n"
      ],
      "metadata": {
        "id": "q7Wi_XtuPJEM"
      }
    },
    {
      "cell_type": "markdown",
      "source": [
        "## Исследовательский анализ данных (EDA)"
      ],
      "metadata": {
        "id": "wTNTauziTSOq"
      }
    },
    {
      "cell_type": "code",
      "source": [
        "# уникальные значения столбца Year\n",
        "years_unique = data['Year'].unique()\n",
        "# количество уникальных значений столбца Year\n",
        "years_unique_count = data['Year'].nunique()\n",
        "print(years_unique)\n",
        "print(years_unique_count)"
      ],
      "metadata": {
        "colab": {
          "base_uri": "https://localhost:8080/"
        },
        "id": "Qyrpoj6QD-ai",
        "outputId": "79befcc4-4e43-4533-a39f-48a821ad330a"
      },
      "execution_count": 34,
      "outputs": [
        {
          "output_type": "stream",
          "name": "stdout",
          "text": [
            "[2019 2018 2017 2016 2015 2014 2013 2012 2011 2010 2009 2008 2007 2006\n",
            " 2005 2004 2003 2002 2001 2000 1999 1998 1997 1996 1995 1994 1993 1992\n",
            " 1991 1990 1989 1988 1987 1986 1985 1984 1983 1982 1981 1980]\n",
            "40\n"
          ]
        }
      ]
    },
    {
      "cell_type": "code",
      "source": [
        "states_unique = data['State'].unique()\n",
        "print(states_unique)\n",
        "states_unique_count = data['State'].nunique()\n",
        "print(states_unique_count)"
      ],
      "metadata": {
        "colab": {
          "base_uri": "https://localhost:8080/"
        },
        "id": "Mf3q8GSRD-hm",
        "outputId": "e5c84f15-cdc7-48dc-eead-bfd15e996fe2"
      },
      "execution_count": 35,
      "outputs": [
        {
          "output_type": "stream",
          "name": "stdout",
          "text": [
            "['ALABAMA' 'ARIZONA' 'ARKANSAS' 'CALIFORNIA' 'COLORADO' 'DELAWARE'\n",
            " 'GEORGIA' 'IDAHO' 'ILLINOIS' 'INDIANA' 'KANSAS' 'KENTUCKY' 'MARYLAND'\n",
            " 'MICHIGAN' 'MINNESOTA' 'MISSISSIPPI' 'MISSOURI' 'MONTANA' 'NEBRASKA'\n",
            " 'NEW JERSEY' 'NEW MEXICO' 'NEW YORK' 'NORTH CAROLINA' 'NORTH DAKOTA'\n",
            " 'OHIO' 'OKLAHOMA' 'OREGON' 'PENNSYLVANIA' 'SOUTH CAROLINA' 'SOUTH DAKOTA'\n",
            " 'TENNESSEE' 'TEXAS' 'UTAH' 'VIRGINIA' 'WASHINGTON' 'WISCONSIN' 'WYOMING'\n",
            " 'FLORIDA' 'IOWA' 'LOUISIANA' 'NEVADA' 'WEST VIRGINIA']\n",
            "42\n"
          ]
        }
      ]
    },
    {
      "cell_type": "markdown",
      "source": [
        "Только 42 штата из 50. \n",
        "\n",
        "Возможно, не все штаты делятся статистикой по своим полям. Или в отсутствующих штатах вообще не растёт пшеница. Это можно проверить. Но пока лишь запомним, что данные не полностью покрывают всю территорию США."
      ],
      "metadata": {
        "id": "93riaOaCNF56"
      }
    },
    {
      "cell_type": "code",
      "source": [
        "# количество посевов в акрах в 2019\n",
        "acres_2019 = data[data['Year'] == 2019]['Acres']\n",
        "# штаты у которых есть значения в 2019\n",
        "states_2019 = data[data['Year'] == 2019]['State']\n",
        "\n",
        "print(acres_2019)\n",
        "print(states_2019)"
      ],
      "metadata": {
        "id": "jv-3R2J6JzQO",
        "colab": {
          "base_uri": "https://localhost:8080/"
        },
        "outputId": "09567d20-017b-4a05-f4cd-6ffe6fd0e3a3"
      },
      "execution_count": 36,
      "outputs": [
        {
          "output_type": "stream",
          "name": "stdout",
          "text": [
            "0      130000\n",
            "1       34000\n",
            "2      110000\n",
            "3      420000\n",
            "4     2150000\n",
            "5       60000\n",
            "6      150000\n",
            "7     1195000\n",
            "8      650000\n",
            "9      330000\n",
            "10    6900000\n",
            "11     460000\n",
            "12     345000\n",
            "13     540000\n",
            "14    1450000\n",
            "15      45000\n",
            "16     550000\n",
            "17    5450000\n",
            "18    1070000\n",
            "19      19000\n",
            "20     360000\n",
            "21      90000\n",
            "22     290000\n",
            "23    7505000\n",
            "24     500000\n",
            "25    4200000\n",
            "26     740000\n",
            "27     180000\n",
            "28      70000\n",
            "29    1500000\n",
            "30     280000\n",
            "31    4500000\n",
            "32     125000\n",
            "33     180000\n",
            "34    2260000\n",
            "35     195000\n",
            "36     125000\n",
            "Name: Acres, dtype: int64\n",
            "0            ALABAMA\n",
            "1            ARIZONA\n",
            "2           ARKANSAS\n",
            "3         CALIFORNIA\n",
            "4           COLORADO\n",
            "5           DELAWARE\n",
            "6            GEORGIA\n",
            "7              IDAHO\n",
            "8           ILLINOIS\n",
            "9            INDIANA\n",
            "10            KANSAS\n",
            "11          KENTUCKY\n",
            "12          MARYLAND\n",
            "13          MICHIGAN\n",
            "14         MINNESOTA\n",
            "15       MISSISSIPPI\n",
            "16          MISSOURI\n",
            "17           MONTANA\n",
            "18          NEBRASKA\n",
            "19        NEW JERSEY\n",
            "20        NEW MEXICO\n",
            "21          NEW YORK\n",
            "22    NORTH CAROLINA\n",
            "23      NORTH DAKOTA\n",
            "24              OHIO\n",
            "25          OKLAHOMA\n",
            "26            OREGON\n",
            "27      PENNSYLVANIA\n",
            "28    SOUTH CAROLINA\n",
            "29      SOUTH DAKOTA\n",
            "30         TENNESSEE\n",
            "31             TEXAS\n",
            "32              UTAH\n",
            "33          VIRGINIA\n",
            "34        WASHINGTON\n",
            "35         WISCONSIN\n",
            "36           WYOMING\n",
            "Name: State, dtype: object\n"
          ]
        }
      ]
    },
    {
      "cell_type": "markdown",
      "source": [
        "## Визуализация"
      ],
      "metadata": {
        "id": "ZNZuLycVIcV2"
      }
    },
    {
      "cell_type": "code",
      "source": [
        "plt.rcParams['figure.figsize'] = [10, 7] # указываем размер графика\n",
        "\n",
        "# количество посевов в акрах в 2019 в разных штатах\n",
        "sns.barplot(x=acres_2019, y=states_2019);"
      ],
      "metadata": {
        "colab": {
          "base_uri": "https://localhost:8080/",
          "height": 442
        },
        "id": "R2Hr6szVJzV0",
        "outputId": "e506c0f8-383f-436b-bca3-42965ec28b40"
      },
      "execution_count": 37,
      "outputs": [
        {
          "output_type": "display_data",
          "data": {
            "text/plain": [
              "<Figure size 720x504 with 1 Axes>"
            ],
            "image/png": "[encoded data removed]"
          },
          "metadata": {
            "needs_background": "light"
          }
        }
      ]
    },
    {
      "cell_type": "markdown",
      "source": [
        "Площадь посевов по штатам сильно различается. Судя по графику, за 90% посевов отвечают всего 10% штатов. Разумеется, это примерная оценка."
      ],
      "metadata": {
        "id": "aVvJ_3h8M388"
      }
    },
    {
      "cell_type": "code",
      "source": [
        "# объём урожая в бушелях для всех штатов в 2019\n",
        "production_2019 = data[data['Year'] == 2019]['Production']\n",
        "\n",
        "sns.barplot(x=production_2019, y=states_2019);"
      ],
      "metadata": {
        "colab": {
          "base_uri": "https://localhost:8080/",
          "height": 442
        },
        "id": "_idwvwEiJzXr",
        "outputId": "34be1906-c130-4d71-e0e2-b4d63f5d74e7"
      },
      "execution_count": 38,
      "outputs": [
        {
          "output_type": "display_data",
          "data": {
            "text/plain": [
              "<Figure size 720x504 with 1 Axes>"
            ],
            "image/png": "[encoded data removed]"
          },
          "metadata": {
            "needs_background": "light"
          }
        }
      ]
    },
    {
      "cell_type": "markdown",
      "source": [
        "Логично — где больше посевных площадей, там и больше урожая. Однако есть тонкости. Например, в TEXAS (штат Техас) в 2019 году собрали примерно столько же урожая, сколько в SOUTH DAKOTA (штат Южная Дакота). При этом в SOUTH DAKOTA в три раза меньше посевных площадей."
      ],
      "metadata": {
        "id": "Hp_4jYGOJzZk"
      }
    },
    {
      "cell_type": "code",
      "source": [
        "# смотрим на площадь посевов в каждом году во всех штатах\n",
        "# 1) группируем данные по году (Year) с помощью groupby('Year')\n",
        "# 2) достаём из сгруппированной таблицы только столбец с площадью посевов\n",
        "# 3) суммируем значения в каждой группе с помощью sum()\n",
        "acres_usa = data.groupby('Year')['Acres'].sum()\n",
        "acres_usa"
      ],
      "metadata": {
        "colab": {
          "base_uri": "https://localhost:8080/"
        },
        "id": "f54OFKS2Jzbc",
        "outputId": "f06e768e-89bc-446c-bea3-9019ccadec0a"
      },
      "execution_count": 39,
      "outputs": [
        {
          "output_type": "execute_result",
          "data": {
            "text/plain": [
              "Year\n",
              "1980    80788000\n",
              "1981    88251000\n",
              "1982    86232000\n",
              "1983    76419000\n",
              "1984    79213000\n",
              "1985    75535000\n",
              "1986    71998000\n",
              "1987    65829000\n",
              "1988    65529000\n",
              "1989    76615000\n",
              "1990    77041000\n",
              "1991    69881000\n",
              "1992    72219000\n",
              "1993    72168000\n",
              "1994    70349000\n",
              "1995    69031000\n",
              "1996    75105000\n",
              "1997    70412000\n",
              "1998    65821000\n",
              "1999    62664000\n",
              "2000    62549000\n",
              "2001    59432000\n",
              "2002    60318000\n",
              "2003    62141000\n",
              "2004    59644000\n",
              "2005    57214000\n",
              "2006    57334000\n",
              "2007    60460000\n",
              "2008    63617000\n",
              "2009    59017000\n",
              "2010    52620000\n",
              "2011    54277000\n",
              "2012    55294000\n",
              "2013    56236000\n",
              "2014    56841000\n",
              "2015    54999000\n",
              "2016    50116000\n",
              "2017    46052000\n",
              "2018    47815000\n",
              "2019    45158000\n",
              "Name: Acres, dtype: int64"
            ]
          },
          "metadata": {},
          "execution_count": 39
        }
      ]
    },
    {
      "cell_type": "code",
      "source": [
        "# считайем суммарные значения объёма урожая за каждый год:\n",
        "# сгруппируйте данные по Year, \n",
        "# выберите столбец Production и примените sum()\n",
        "production_usa = data.groupby('Year')['Production'].sum()\n",
        "production_usa"
      ],
      "metadata": {
        "colab": {
          "base_uri": "https://localhost:8080/"
        },
        "id": "sIF0GKg2NLF8",
        "outputId": "e2db482e-5eb6-464d-f77d-251b33134a4c"
      },
      "execution_count": 40,
      "outputs": [
        {
          "output_type": "execute_result",
          "data": {
            "text/plain": [
              "Year\n",
              "1980    2380934000\n",
              "1981    2785357000\n",
              "1982    2764967000\n",
              "1983    2419824000\n",
              "1984    2594777000\n",
              "1985    2424115000\n",
              "1986    2090570000\n",
              "1987    2107685000\n",
              "1988    1812201000\n",
              "1989    2036618000\n",
              "1990    2729778000\n",
              "1991    1980139000\n",
              "1992    2466798000\n",
              "1993    2396440000\n",
              "1994    2320981000\n",
              "1995    2182708000\n",
              "1996    2277388000\n",
              "1997    2481466000\n",
              "1998    2547321000\n",
              "1999    2295560000\n",
              "2000    2228160000\n",
              "2001    1947453000\n",
              "2002    1605878000\n",
              "2003    2344415000\n",
              "2004    2156790000\n",
              "2005    2103325000\n",
              "2006    1808416000\n",
              "2007    2051088000\n",
              "2008    2511896000\n",
              "2009    2208918000\n",
              "2010    2163023000\n",
              "2011    1993111000\n",
              "2012    2252307000\n",
              "2013    2134979000\n",
              "2014    2026310000\n",
              "2015    2061939000\n",
              "2016    2308663000\n",
              "2017    1740910000\n",
              "2018    1885156000\n",
              "2019    1920139000\n",
              "Name: Production, dtype: int64"
            ]
          },
          "metadata": {},
          "execution_count": 40
        }
      ]
    },
    {
      "cell_type": "code",
      "source": [
        "# делим значения столбца production_usa на значения столбца acres_usa\n",
        "yield_usa = production_usa / acres_usa\n",
        "yield_usa"
      ],
      "metadata": {
        "colab": {
          "base_uri": "https://localhost:8080/"
        },
        "id": "Kj3Jy7IDNLI4",
        "outputId": "51a676c8-5d60-4046-de50-fe4a16e97726"
      },
      "execution_count": 41,
      "outputs": [
        {
          "output_type": "execute_result",
          "data": {
            "text/plain": [
              "Year\n",
              "1980   29.47\n",
              "1981   31.56\n",
              "1982   32.06\n",
              "1983   31.67\n",
              "1984   32.76\n",
              "1985   32.09\n",
              "1986   29.04\n",
              "1987   32.02\n",
              "1988   27.65\n",
              "1989   26.58\n",
              "1990   35.43\n",
              "1991   28.34\n",
              "1992   34.16\n",
              "1993   33.21\n",
              "1994   32.99\n",
              "1995   31.62\n",
              "1996   30.32\n",
              "1997   35.24\n",
              "1998   38.70\n",
              "1999   36.63\n",
              "2000   35.62\n",
              "2001   32.77\n",
              "2002   26.62\n",
              "2003   37.73\n",
              "2004   36.16\n",
              "2005   36.76\n",
              "2006   31.54\n",
              "2007   33.92\n",
              "2008   39.48\n",
              "2009   37.43\n",
              "2010   41.11\n",
              "2011   36.72\n",
              "2012   40.73\n",
              "2013   37.96\n",
              "2014   35.65\n",
              "2015   37.49\n",
              "2016   46.07\n",
              "2017   37.80\n",
              "2018   39.43\n",
              "2019   42.52\n",
              "dtype: float64"
            ]
          },
          "metadata": {},
          "execution_count": 41
        }
      ]
    },
    {
      "cell_type": "markdown",
      "source": [
        "Визуализизируем с помощью столбчатой диаграммы, \n",
        "\n",
        "на которой по оси X отмечены года, а по оси Y — урожайность. \n",
        "\n",
        "Список лет — координат для оси X — лежит в переменной years_unique."
      ],
      "metadata": {
        "id": "ch1BJJTWO0Mc"
      }
    },
    {
      "cell_type": "code",
      "source": [
        "# достаём индексы (порядковые номера) столбца acres_usa, это числа от 1980 до 2019\n",
        "years_unique = acres_usa.index.values\n",
        "\n",
        "# строим столбчатую диаграмму урожайности по годам\n",
        "sns.barplot(x=years_unique, y=yield_usa);"
      ],
      "metadata": {
        "colab": {
          "base_uri": "https://localhost:8080/",
          "height": 428
        },
        "id": "sIZfppD6NLLm",
        "outputId": "55d149a7-ee1e-47e5-9af9-cda6199a7226"
      },
      "execution_count": 42,
      "outputs": [
        {
          "output_type": "display_data",
          "data": {
            "text/plain": [
              "<Figure size 720x504 with 1 Axes>"
            ],
            "image/png": "[encoded data removed]"
          },
          "metadata": {
            "needs_background": "light"
          }
        }
      ]
    },
    {
      "cell_type": "markdown",
      "source": [
        "## Модель предсказания"
      ],
      "metadata": {
        "id": "U2688UunNLOH"
      }
    },
    {
      "cell_type": "markdown",
      "source": [
        "Самый точный прогноз получится, если предсказать и площадь посевов, и урожайность. \n",
        "\n",
        "Есть две стратегии:\n",
        "*   предсказать площадь посевов, а урожайность взять за предыдущий год;\n",
        "*   предсказать урожайность, а площадь посевов взять за предыдущий год.\n",
        "\n",
        "Какая даст более точный прогноз урожая? Ответив на этот вопрос, вы решите задачу."
      ],
      "metadata": {
        "id": "rOtuuAO5TayK"
      }
    },
    {
      "cell_type": "markdown",
      "source": [
        "Если выбрать первый вариант — предсказать площадь посевов, а урожайность взять за предыдущий год, — предсказанный объём урожая за определённый год будет равен произведению реальной площади посевов (acres) за этот год (t) и прошлогодней урожайности (yield, t-1):\n",
        "\n",
        "$$ acres_t * yield_{t-1} $$\n",
        "\n",
        "Во втором случае наоборот — произведению прошлогодней площади посевов и реальной урожайности за выбранный год:\n",
        "\n",
        "$$ acres_{t-1} * yield_t $$"
      ],
      "metadata": {
        "id": "HeOw_mbvUCzJ"
      }
    },
    {
      "cell_type": "markdown",
      "source": [
        "Как получить данные за прошлый год? \n",
        "\n",
        "Выход — «сдвинуть» столбец yield или acres на одно значение вперёд. Тогда для 1981 года будут данные за 1980 и так далее.\n"
      ],
      "metadata": {
        "id": "EEGkx9vrV9mm"
      }
    },
    {
      "cell_type": "code",
      "source": [
        "yield_usa"
      ],
      "metadata": {
        "colab": {
          "base_uri": "https://localhost:8080/"
        },
        "id": "QFhS7UDZWHBO",
        "outputId": "aa917c78-fe5f-41d6-89fe-09ec9178cdf0"
      },
      "execution_count": 43,
      "outputs": [
        {
          "output_type": "execute_result",
          "data": {
            "text/plain": [
              "Year\n",
              "1980   29.47\n",
              "1981   31.56\n",
              "1982   32.06\n",
              "1983   31.67\n",
              "1984   32.76\n",
              "1985   32.09\n",
              "1986   29.04\n",
              "1987   32.02\n",
              "1988   27.65\n",
              "1989   26.58\n",
              "1990   35.43\n",
              "1991   28.34\n",
              "1992   34.16\n",
              "1993   33.21\n",
              "1994   32.99\n",
              "1995   31.62\n",
              "1996   30.32\n",
              "1997   35.24\n",
              "1998   38.70\n",
              "1999   36.63\n",
              "2000   35.62\n",
              "2001   32.77\n",
              "2002   26.62\n",
              "2003   37.73\n",
              "2004   36.16\n",
              "2005   36.76\n",
              "2006   31.54\n",
              "2007   33.92\n",
              "2008   39.48\n",
              "2009   37.43\n",
              "2010   41.11\n",
              "2011   36.72\n",
              "2012   40.73\n",
              "2013   37.96\n",
              "2014   35.65\n",
              "2015   37.49\n",
              "2016   46.07\n",
              "2017   37.80\n",
              "2018   39.43\n",
              "2019   42.52\n",
              "dtype: float64"
            ]
          },
          "metadata": {},
          "execution_count": 43
        }
      ]
    },
    {
      "cell_type": "code",
      "source": [
        "# сдвигаем столбец на один шаг вперёд с помощью shift(1)\n",
        "yield_usa_shifted = yield_usa.shift(1)\n",
        "yield_usa_shifted"
      ],
      "metadata": {
        "colab": {
          "base_uri": "https://localhost:8080/"
        },
        "id": "F3gP18uaWQel",
        "outputId": "aaa229e6-a4e2-4dd1-ca88-68135240ab52"
      },
      "execution_count": 44,
      "outputs": [
        {
          "output_type": "execute_result",
          "data": {
            "text/plain": [
              "Year\n",
              "1980     NaN\n",
              "1981   29.47\n",
              "1982   31.56\n",
              "1983   32.06\n",
              "1984   31.67\n",
              "1985   32.76\n",
              "1986   32.09\n",
              "1987   29.04\n",
              "1988   32.02\n",
              "1989   27.65\n",
              "1990   26.58\n",
              "1991   35.43\n",
              "1992   28.34\n",
              "1993   34.16\n",
              "1994   33.21\n",
              "1995   32.99\n",
              "1996   31.62\n",
              "1997   30.32\n",
              "1998   35.24\n",
              "1999   38.70\n",
              "2000   36.63\n",
              "2001   35.62\n",
              "2002   32.77\n",
              "2003   26.62\n",
              "2004   37.73\n",
              "2005   36.16\n",
              "2006   36.76\n",
              "2007   31.54\n",
              "2008   33.92\n",
              "2009   39.48\n",
              "2010   37.43\n",
              "2011   41.11\n",
              "2012   36.72\n",
              "2013   40.73\n",
              "2014   37.96\n",
              "2015   35.65\n",
              "2016   37.49\n",
              "2017   46.07\n",
              "2018   37.80\n",
              "2019   39.43\n",
              "dtype: float64"
            ]
          },
          "metadata": {},
          "execution_count": 44
        }
      ]
    },
    {
      "cell_type": "code",
      "source": [
        "# умножаем площадь посевов за каждый год\n",
        "# на урожайность за предыдущий год,\n",
        "# получив её с помощью команды shift(1)\n",
        "predict_acres = acres_usa * yield_usa_shifted\n",
        "predict_acres"
      ],
      "metadata": {
        "colab": {
          "base_uri": "https://localhost:8080/"
        },
        "id": "wd3naslBWnuZ",
        "outputId": "8266b076-94f5-45e0-8a30-11bf5d4b8d51"
      },
      "execution_count": 45,
      "outputs": [
        {
          "output_type": "execute_result",
          "data": {
            "text/plain": [
              "Year\n",
              "1980             NaN\n",
              "1981   2600878923.03\n",
              "1982   2721633803.85\n",
              "1983   2450320219.56\n",
              "1984   2508296608.33\n",
              "1985   2474296904.49\n",
              "1986   2310603452.31\n",
              "1987   1911443825.25\n",
              "1988   2098079727.25\n",
              "1989   2118783738.73\n",
              "1990   2047942143.68\n",
              "1991   2476079184.04\n",
              "1992   2046388266.35\n",
              "1993   2465055983.38\n",
              "1994   2336037545.17\n",
              "1995   2277497042.05\n",
              "1996   2374763285.19\n",
              "1997   2135083467.89\n",
              "1998   2319669567.49\n",
              "1999   2425142783.37\n",
              "2000   2291347223.92\n",
              "2001   2117124256.50\n",
              "2002   1976485227.72\n",
              "2003   1654412692.70\n",
              "2004   2250209817.35\n",
              "2005   2068918634.90\n",
              "2006   2107736490.19\n",
              "2007   1907015581.68\n",
              "2008   2158188311.21\n",
              "2009   2330266536.18\n",
              "2010   1969487862.14\n",
              "2011   2231136438.07\n",
              "2012   2030456355.99\n",
              "2013   2290677767.06\n",
              "2014   2157947601.87\n",
              "2015   1960645021.90\n",
              "2016   1878872978.13\n",
              "2017   2121449207.36\n",
              "2018   1807556928.04\n",
              "2019   1780401017.42\n",
              "dtype: float64"
            ]
          },
          "metadata": {},
          "execution_count": 45
        }
      ]
    },
    {
      "cell_type": "markdown",
      "source": [
        "Предсказания по первой модели готовы! Вот последние три значения из списка production_usa с реальными показателями урожая: 1740910000, 1885156000, 1920139000. \n",
        "\n",
        "Сравнивать трудно. Но, по крайней мере, порядок примерно совпадает."
      ],
      "metadata": {
        "id": "uK1WAdmJXZSH"
      }
    },
    {
      "cell_type": "markdown",
      "source": [
        "Теперь предскажите объёмы урожая, придерживаясь второй стратегии, — умножьте урожайность за каждый год на площадь посевов за предыдущий год. Результат сохраните в переменной predict_yield"
      ],
      "metadata": {
        "id": "rJyQRzEmYKL1"
      }
    },
    {
      "cell_type": "code",
      "source": [
        "# умножаем урожайность за каждый год\n",
        "# на площадь посевов за предыдущий год,\n",
        "# получив её с помощью команды shift(1)\n",
        "predict_yield = acres_usa.shift(1) * yield_usa\n",
        "predict_yield"
      ],
      "metadata": {
        "colab": {
          "base_uri": "https://localhost:8080/"
        },
        "id": "6Su2UnsmYLOQ",
        "outputId": "acad05d6-0c8f-4cf3-fb13-6286e8987b77"
      },
      "execution_count": 46,
      "outputs": [
        {
          "output_type": "execute_result",
          "data": {
            "text/plain": [
              "Year\n",
              "1980             NaN\n",
              "1981   2549811575.12\n",
              "1982   2829704781.48\n",
              "1983   2730554746.44\n",
              "1984   2503254056.32\n",
              "1985   2542151605.15\n",
              "1986   2193272104.09\n",
              "1987   2305201425.36\n",
              "1988   1820497484.00\n",
              "1989   1741924439.37\n",
              "1990   2714683629.11\n",
              "1991   2183023836.22\n",
              "1992   2386938493.17\n",
              "1993   2398133526.77\n",
              "1994   2380994140.76\n",
              "1995   2224382162.97\n",
              "1996   2093207789.47\n",
              "1997   2646857125.63\n",
              "1998   2724996068.91\n",
              "1999   2411209861.48\n",
              "2000   2232256602.66\n",
              "2001   2049590081.05\n",
              "2002   1582289553.63\n",
              "2003   2275638048.47\n",
              "2004   2247084155.82\n",
              "2005   2192657676.44\n",
              "2006   1804630987.27\n",
              "2007   1945039354.81\n",
              "2008   2387242909.29\n",
              "2009   2381089116.80\n",
              "2010   2425981155.28\n",
              "2011   1932264141.72\n",
              "2012   2210881235.56\n",
              "2013   2099216317.41\n",
              "2014   2004742512.62\n",
              "2015   2130996467.19\n",
              "2016   2533605162.76\n",
              "2017   1894541943.02\n",
              "2018   1815647895.26\n",
              "2019   2033115866.18\n",
              "dtype: float64"
            ]
          },
          "metadata": {},
          "execution_count": 46
        }
      ]
    },
    {
      "cell_type": "markdown",
      "source": [
        "## Ошибки предсказаний"
      ],
      "metadata": {
        "id": "5kA6eVrANLQb"
      }
    },
    {
      "cell_type": "markdown",
      "source": [
        "Чтобы оценить, насколько успешны две стратегии, осталось сравнить предсказанные в соответствии с ними объёмы урожая за каждый год и реальные исторические данные. Проще всего это сделать, вычтя предсказания из правильных ответов. Тогда победит та стратегия, где разница окажется меньше.\n",
        "\n",
        "Вычислим ошибки предсказаний для первой стратегии — площадь посевов будет реальной, а урожайность прошлогодней.\n",
        "\n",
        "Создадим переменную error_acres и сохраним в ней разницу реального и предсказанного объёма урожая за каждый год, кроме 1980. Ошибку будем считать так: \n",
        "\n",
        "$$ production\\texttt{_}usa - predict\\texttt{_}acres $$\n"
      ],
      "metadata": {
        "id": "JF7CtqLNNLSR"
      }
    },
    {
      "cell_type": "markdown",
      "source": [
        "### Прогноз1\n",
        "\n",
        "предсказать площадь посевов с помощью урожайности за предыдущий год"
      ],
      "metadata": {
        "id": "dWTGRO3lbk3o"
      }
    },
    {
      "cell_type": "code",
      "source": [
        "# ошибка — это разность между реальными значениями и предсказанными\n",
        "error_acres = production_usa - predict_acres\n",
        "# удаляем самое первое значение методом dropna(),\n",
        "# оно не понадобится, ведь данных за 1979 год нет,\n",
        "# и разность находить не с чем\n",
        "error_acres = error_acres.dropna()\n",
        "\n",
        "# достаём индексы столбца error_acres — теперь это числа с 1981 до 2019\n",
        "years_numbers = error_acres.index.values\n",
        "years_numbers"
      ],
      "metadata": {
        "colab": {
          "base_uri": "https://localhost:8080/"
        },
        "id": "1tOD5-bMNLTz",
        "outputId": "4fe2a308-c15a-4d69-a822-f27c4b467b74"
      },
      "execution_count": 47,
      "outputs": [
        {
          "output_type": "execute_result",
          "data": {
            "text/plain": [
              "array([1981, 1982, 1983, 1984, 1985, 1986, 1987, 1988, 1989, 1990, 1991,\n",
              "       1992, 1993, 1994, 1995, 1996, 1997, 1998, 1999, 2000, 2001, 2002,\n",
              "       2003, 2004, 2005, 2006, 2007, 2008, 2009, 2010, 2011, 2012, 2013,\n",
              "       2014, 2015, 2016, 2017, 2018, 2019])"
            ]
          },
          "metadata": {},
          "execution_count": 47
        }
      ]
    },
    {
      "cell_type": "code",
      "source": [
        "plt.rcParams['figure.figsize'] = [20, 7]\n",
        "\n",
        "sns.barplot(x=years_numbers, y=error_acres);"
      ],
      "metadata": {
        "colab": {
          "base_uri": "https://localhost:8080/",
          "height": 0
        },
        "id": "UpvAVrndNLVs",
        "outputId": "849420b3-2106-4d0a-d642-0d1a2f92af50"
      },
      "execution_count": 48,
      "outputs": [
        {
          "output_type": "display_data",
          "data": {
            "text/plain": [
              "<Figure size 1440x504 with 1 Axes>"
            ],
            "image/png": "[encoded data removed]"
          },
          "metadata": {
            "needs_background": "light"
          }
        }
      ]
    },
    {
      "cell_type": "markdown",
      "source": [
        "### Прогноз2\n",
        "\n",
        "предсказать урожайность с помощью площади посевов за предыдущий год"
      ],
      "metadata": {
        "id": "mEuwBRA0NLXm"
      }
    },
    {
      "cell_type": "code",
      "source": [
        "# ошибка — это разность между реальными значениями и предсказанными\n",
        "error_yield = production_usa - predict_yield\n",
        "# удаляем самое первое значение методом dropna(),\n",
        "# оно не понадобится, ведь данных за 1979 год нет,\n",
        "# и разность находить не с чем\n",
        "error_yield = error_yield.dropna()\n",
        "\n",
        "# достаём индексы столбца error_acres — это числа с 1981 до 2019\n",
        "years_numbers = error_yield.index.values\n",
        "\n",
        "sns.barplot(x=years_numbers, y=error_yield);"
      ],
      "metadata": {
        "colab": {
          "base_uri": "https://localhost:8080/",
          "height": 439
        },
        "id": "JB5R8LigNLZl",
        "outputId": "4ae41781-c142-4db2-e577-d440256a5a85"
      },
      "execution_count": 49,
      "outputs": [
        {
          "output_type": "display_data",
          "data": {
            "text/plain": [
              "<Figure size 1440x504 with 1 Axes>"
            ],
            "image/png": "[encoded data removed]"
          },
          "metadata": {
            "needs_background": "light"
          }
        }
      ]
    },
    {
      "cell_type": "markdown",
      "source": [
        "В этой стратегии ошибки тоже разнонаправленные, однако масштаб графика меньше. У нас есть победитель?\n",
        "\n",
        "предсказать урожайность взяв площадь посевов"
      ],
      "metadata": {
        "id": "DHLUKMqfNLbY"
      }
    },
    {
      "cell_type": "markdown",
      "source": [
        "## Выразить ошибки одним числом"
      ],
      "metadata": {
        "id": "6b6EsvvoNLdm"
      }
    },
    {
      "cell_type": "code",
      "source": [
        "# применяем функцию abs() к столбцу error_acres и сохраняем в error_abs_acres\n",
        "error_abs_acres = abs(error_acres)\n",
        "error_abs_acres"
      ],
      "metadata": {
        "colab": {
          "base_uri": "https://localhost:8080/"
        },
        "id": "0s6-YEyPNLhD",
        "outputId": "d5208bd9-67c0-4c0e-e542-1f4d4392bd7e"
      },
      "execution_count": 50,
      "outputs": [
        {
          "output_type": "execute_result",
          "data": {
            "text/plain": [
              "Year\n",
              "1981   184478076.97\n",
              "1982    43333196.15\n",
              "1983    30496219.56\n",
              "1984    86480391.67\n",
              "1985    50181904.49\n",
              "1986   220033452.31\n",
              "1987   196241174.75\n",
              "1988   285878727.25\n",
              "1989    82165738.73\n",
              "1990   681835856.32\n",
              "1991   495940184.04\n",
              "1992   420409733.65\n",
              "1993    68615983.38\n",
              "1994    15056545.17\n",
              "1995    94789042.05\n",
              "1996    97375285.19\n",
              "1997   346382532.11\n",
              "1998   227651432.51\n",
              "1999   129582783.37\n",
              "2000    63187223.92\n",
              "2001   169671256.50\n",
              "2002   370607227.72\n",
              "2003   690002307.30\n",
              "2004    93419817.35\n",
              "2005    34406365.10\n",
              "2006   299320490.19\n",
              "2007   144072418.32\n",
              "2008   353707688.79\n",
              "2009   121348536.18\n",
              "2010   193535137.86\n",
              "2011   238025438.07\n",
              "2012   221850644.01\n",
              "2013   155698767.06\n",
              "2014   131637601.87\n",
              "2015   101293978.10\n",
              "2016   429790021.87\n",
              "2017   380539207.36\n",
              "2018    77599071.96\n",
              "2019   139737982.58\n",
              "dtype: float64"
            ]
          },
          "metadata": {},
          "execution_count": 50
        }
      ]
    },
    {
      "cell_type": "code",
      "source": [
        "# применяем функцию abs() к столбцу error_yield и сохраняем в error_abs_yield\n",
        "error_abs_yield = abs(error_yield)\n",
        "error_abs_yield"
      ],
      "metadata": {
        "colab": {
          "base_uri": "https://localhost:8080/"
        },
        "id": "S1D_R9bxNLjI",
        "outputId": "51a17535-237a-4498-d11d-7f15d08bc13e"
      },
      "execution_count": 51,
      "outputs": [
        {
          "output_type": "execute_result",
          "data": {
            "text/plain": [
              "Year\n",
              "1981   235545424.88\n",
              "1982    64737781.48\n",
              "1983   310730746.44\n",
              "1984    91522943.68\n",
              "1985   118036605.15\n",
              "1986   102702104.09\n",
              "1987   197516425.36\n",
              "1988     8296484.00\n",
              "1989   294693560.63\n",
              "1990    15094370.89\n",
              "1991   202884836.22\n",
              "1992    79859506.83\n",
              "1993     1693526.77\n",
              "1994    60013140.76\n",
              "1995    41674162.97\n",
              "1996   184180210.53\n",
              "1997   165391125.63\n",
              "1998   177675068.91\n",
              "1999   115649861.48\n",
              "2000     4096602.66\n",
              "2001   102137081.05\n",
              "2002    23588446.37\n",
              "2003    68776951.53\n",
              "2004    90294155.82\n",
              "2005    89332676.44\n",
              "2006     3785012.73\n",
              "2007   106048645.19\n",
              "2008   124653090.71\n",
              "2009   172171116.80\n",
              "2010   262958155.28\n",
              "2011    60846858.28\n",
              "2012    41425764.44\n",
              "2013    35762682.59\n",
              "2014    21567487.38\n",
              "2015    69057467.19\n",
              "2016   224942162.76\n",
              "2017   153631943.02\n",
              "2018    69508104.74\n",
              "2019   112976866.18\n",
              "dtype: float64"
            ]
          },
          "metadata": {},
          "execution_count": 51
        }
      ]
    },
    {
      "cell_type": "code",
      "source": [
        "# считаем усреднённую ошибку первой стратегии:\n",
        "# делим сумму модулей ошибок в error_abs_acres на количество элементов в error_abs_acres\n",
        "result_acres = error_abs_acres.sum() / error_abs_acres.count()\n",
        "result_acres"
      ],
      "metadata": {
        "colab": {
          "base_uri": "https://localhost:8080/"
        },
        "id": "JyUw2Fq7e7fG",
        "outputId": "c0524be0-6d76-4cdd-a705-b1ba5ce074a2"
      },
      "execution_count": 52,
      "outputs": [
        {
          "output_type": "execute_result",
          "data": {
            "text/plain": [
              "209394344.66107476"
            ]
          },
          "metadata": {},
          "execution_count": 52
        }
      ]
    },
    {
      "cell_type": "code",
      "source": [
        "# считаем усреднённую ошибку второй стратегии:\n",
        "# делим сумму модулей ошибок в error_abs_yield на количество элементов в error_abs_yield\n",
        "result_yield = error_abs_yield.sum() / error_abs_yield.count()\n",
        "result_yield"
      ],
      "metadata": {
        "colab": {
          "base_uri": "https://localhost:8080/"
        },
        "id": "amxy6DuBfIfU",
        "outputId": "6649bc0c-0d7e-44dd-9e74-e4263f1233d5"
      },
      "execution_count": 53,
      "outputs": [
        {
          "output_type": "execute_result",
          "data": {
            "text/plain": [
              "110396388.66393326"
            ]
          },
          "metadata": {},
          "execution_count": 53
        }
      ]
    },
    {
      "cell_type": "markdown",
      "source": [
        "# Выводы\n",
        "Прогноз номер 2 оказался более удачливым.\n",
        "\n",
        "Лучше предсказать урожайность с помощью площади посевов за предыдущий год"
      ],
      "metadata": {
        "id": "2-4LtlaogZF1"
      }
    }
  ]
}